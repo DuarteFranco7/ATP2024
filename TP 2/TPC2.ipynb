{
 "cells": [
  {
   "cell_type": "code",
   "execution_count": null,
   "metadata": {},
   "outputs": [],
   "source": []
  },
  {
   "cell_type": "code",
   "execution_count": null,
   "metadata": {},
   "outputs": [
    {
     "ename": "",
     "evalue": "",
     "output_type": "error",
     "traceback": [
      "\u001b[1;31mFailed to start the Kernel. \n",
      "\u001b[1;31mConnection is disposed. \n",
      "\u001b[1;31mView Jupyter <a href='command:jupyter.viewOutput'>log</a> for further details."
     ]
    }
   ],
   "source": [
    "def escolhas():\n",
    "    print(\"Escolhe o que queres jogar:\")\n",
    "    print(\"1. O computador tenta adivinhar o teu número.\")\n",
    "    print(\"2. tu tentas adivinhar o número que o computador escolheu.\")\n",
    "    \n",
    "    escolha = input(\"Escreve um número a tua escolha: \")\n",
    "\n",
    "    if escolha == \"1\":\n",
    "        computador_adivinha()\n",
    "    elif escolha == \"2\":\n",
    "        jogador_adivinha()\n",
    "    else:\n",
    "        print(\"Opção não reconhecida. Por favor, escolha 1 ou 2.\")\n",
    "\n",
    "def computador_adivinha():\n",
    "    print(\"Pensa em um número entre 1 e 100, e o computador vai tentar adivinhar!\")\n",
    "    limite_inferior = 1\n",
    "    limite_superior = 100\n",
    "    tentativas = 0\n",
    "    max_tentativas = 7\n",
    "\n",
    "    while tentativas < max_tentativas:\n",
    "        palpite = (limite_inferior + limite_superior) // 2  # Escolhe da forma a utilizar a divisão binária\n",
    "        tentativas = tentativas + 1  # Incrementa tentativas\n",
    "        print(\"Tentativa\", tentativas, \": O computador tenta:\", palpite)\n",
    "        resposta = input(\"O número é (m)enor, (M)aior ou (C)orreto? \")\n",
    "\n",
    "        if resposta == 'c' or resposta == 'C':\n",
    "            print(\"O computador acertou em\", tentativas, \"tentativas!\")\n",
    "            tentativas = max_tentativas  # Forçar o loop a terminar\n",
    "        elif resposta == 'm':\n",
    "            limite_superior = palpite - 1  # Reduz o limite superior\n",
    "        elif resposta == 'M':\n",
    "            limite_inferior = palpite + 1  # Aumenta o limite inferior\n",
    "            print(\"Resposta inválida, por favor responda com 'm', 'M' ou 'C'.\")\n",
    "        else: \n",
    "            print(\"O computador não conseguiu adivinhar em 7 tentativas!\")\n",
    "\n",
    "def jogador_adivinha():\n",
    "    import random\n",
    "    N = (random.randint(0,100)) \n",
    "    R = int(input (\"Qual o número que eu pensei?\"))\n",
    "    T = 1\n",
    "    Tmax = 7\n",
    "    while (N != R) and (T <= Tmax):\n",
    "        if (N < R):\n",
    "            print (\"O número que pensei é menor\")\n",
    "        if (N > R):\n",
    "            print (\"O número que pensei é maior\")\n",
    "        R = int(input(\"Qual o número que pensei?\"))\n",
    "        T = T + 1\n",
    "    if T > Tmax:\n",
    "        print(f\"Perdeste! O numero que eu pensei foi {N}, e o teu numero de tentativas foi {T}\")\n",
    "    else: \n",
    "        print (\"Acertou! O teu número de tentativas foi de\", T)\n",
    "\n",
    "escolhas()"
   ]
  }
 ],
 "metadata": {
  "kernelspec": {
   "display_name": "Python 3",
   "language": "python",
   "name": "python3"
  },
  "language_info": {
   "name": "python",
   "version": "3.12.6"
  }
 },
 "nbformat": 4,
 "nbformat_minor": 2
}
